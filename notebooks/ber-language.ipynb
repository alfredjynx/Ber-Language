{
 "cells": [
  {
   "cell_type": "markdown",
   "metadata": {},
   "source": [
    "\tber-language\n",
    "\n",
    "\t<program>\t\t::= DISAS <var-decls> <statements> .leo\n",
    "\n",
    "\t<var-decls>\t\t::= <var-decl> |\n",
    "\t\t\t\t\t<var-decl> <var-decls>\n",
    "\n",
    "\t<var-decl>\t\t::= <type> REGISTER ;\n",
    "\n",
    "\t\t\t\t\tlong        | int |         hex          |        binario       | \n",
    "\t<type> \t\t\t::= quarenta-e-sete | pau | espetinho-de-coração | barra-bin-barra-bash | ;\n",
    "\n",
    "\t<statements>\t\t::= <open_statement> |\n",
    "\t\t\t\t\t<open_statement> <statements>\n",
    "\n",
    "\t<statement>\t\t::= <atrib> |\n",
    "\t\t\t\t\t<if-else>\n",
    "\n",
    "\t<atrib>\t\t\t::= REGISTER = <expression> ;\n",
    "\n",
    "\t<expression>\t\t::= REGISTER |\n",
    "\t\t\t\t\tnumber |\n",
    "\t\t\t\t\taddw <expression>, <expression> |\n",
    "\t\t\t\t\tsubw <expression>, <expression> |\n",
    "\t\t\t\t\tmul <expression>, <expression> |\n",
    "\t\t\t\t\tdiv <expression>, <expression> |\n",
    "\t\t\t\t\t( <expression> )\n",
    "\n",
    "\n",
    "\n",
    "\n",
    "\n",
    "\t<open_statement>\t::= <atrib> |\n",
    "\t\t\t\tse-o-ber ( <expression> <comp> <expression> ){ <open_statement> } |\n",
    "\t\t\t\tse-o-ber ( <expression> <comp> <expression> ){ <closed_statement> } senao-o-ber { <open_statement> }\n",
    "\n",
    "\n",
    "\n",
    "\t<closed_statement>\t::= <atrib> |\n",
    "\t\t\t\tse-o-ber ( <expression> <comp> <expression> ){ <closed_statement> } senao-o-ber { <closed_statement> }\n",
    "\n",
    "\n",
    "\n",
    "\t\t\t\t\t== |  != |   <   |   >  |     <=    |    >=\n",
    "\t<comp>\t\t\t::= leo | ber | lucca | enzo | lucca-leo | enzo-leo\n",
    "\n"
   ]
  },
  {
   "cell_type": "code",
   "execution_count": null,
   "metadata": {},
   "outputs": [],
   "source": []
  }
 ],
 "metadata": {
  "language_info": {
   "name": "python"
  }
 },
 "nbformat": 4,
 "nbformat_minor": 2
}
